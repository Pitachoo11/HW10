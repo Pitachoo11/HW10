{
 "cells": [
  {
   "cell_type": "code",
   "execution_count": null,
   "metadata": {},
   "outputs": [],
   "source": [
    "kwhjfbvkwjfnvlwkfnvw;kfmv"
   ]
  }
 ],
 "metadata": {
  "kernelspec": {
   "display_name": "Python 3.9.13 ('.lib': venv)",
   "language": "python",
   "name": "python3"
  },
  "language_info": {
   "name": "python",
   "version": "3.9.13"
  },
  "orig_nbformat": 4,
  "vscode": {
   "interpreter": {
    "hash": "8045ecc933308294604ff5d34abf5a95467d87de74b332bed859c883725c7d70"
   }
  }
 },
 "nbformat": 4,
 "nbformat_minor": 2
}
